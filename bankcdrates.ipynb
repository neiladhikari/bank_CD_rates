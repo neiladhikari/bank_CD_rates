{
 "cells": [
  {
   "cell_type": "code",
   "execution_count": 1,
   "metadata": {},
   "outputs": [
    {
     "name": "stdout",
     "output_type": "stream",
     "text": [
      "Current CD rates: 6-month\n",
      "\n",
      "Quontic Bank: 2.00% APY\n",
      "Limelight Bank: 1.55% APY\n",
      "Live Oak Bank: 1.50% APY\n",
      "Popular Direct: 1.50% APY\n",
      "First Internet Bank of Indiana: 1.16% APY\n",
      "Marcus by Goldman Sachs: 1.05% APY\n",
      "Capital One: 1.00% APY\n",
      "\n",
      "Current CD rates: 1-year\n",
      "\n",
      "Quontic Bank: 2.55% APY\n",
      "Bread Savings (formerly Comenity Direct): 2.50% APY\n",
      "Barclays: 2.30% APY\n",
      "Limelight Bank: 2.30% APY\n",
      "Popular Direct: 2.25% APY\n",
      "Live Oak Bank: 2.20% APY\n",
      "First Internet Bank of Indiana: 2.07% APY\n",
      "Pentagon Federal Credit Union: 2.00% APY\n",
      "Capital One: 1.90% APY\n",
      "Marcus by Goldman Sachs: 1.90% APY\n",
      "\n",
      "Current CD rates: 3-year\n",
      "\n",
      "Bread Savings (formerly Comenity Direct): 3.25% APY\n",
      "Pentagon Federal Credit Union: 3.25% APY\n",
      "Quontic Bank: 3.10% APY\n",
      "Limelight Bank: 3.10% APY\n",
      "Popular Direct: 3.02% APY\n",
      "First Internet Bank of Indiana: 2.89% APY\n",
      "Barclays: 2.70% APY\n",
      "Live Oak Bank: 2.65% APY\n",
      "Capital One: 2.50% APY\n",
      "Marcus by Goldman Sachs: 2.50% APY\n",
      "\n",
      "Current CD rates: 5-year\n",
      "\n",
      "Bread Savings (formerly Comenity Direct): 3.35% APY\n",
      "Quontic Bank: 3.30% APY\n",
      "Popular Direct: 3.25% APY\n",
      "First Internet Bank of Indiana: 3.25% APY\n",
      "Barclays: 3.20% APY\n",
      "Pentagon Federal Credit Union: 3.00% APY\n",
      "Live Oak Bank: 3.00% APY\n",
      "Capital One: 2.90% APY\n",
      "Discover Bank: 2.90% APY\n",
      "Marcus by Goldman Sachs: 2.90% APY\n",
      "\n",
      "What are today’s CD rates?\n",
      "The Federal Reserve and CD rates\n",
      "How are CD interest rates determined?\n",
      "Learn more about other CD terms:\n",
      "\n",
      "Best 18-month CD rates\n",
      "Best 3-year CD rates\n",
      "Best jumbo CD rates\n",
      "\n"
     ]
    }
   ],
   "source": [
    "#https://www.dataquest.io/blog/web-scraping-python-using-beautiful-soup/\n",
    "from bs4 import BeautifulSoup\n",
    "import requests\n",
    "import lxml\n",
    "import pandas as pd\n",
    "import io\n",
    "\n",
    "page = requests.get(\"https://www.bankrate.com/banking/cds/current-cd-interest-rates/\")\n",
    "soup = BeautifulSoup(page.content, 'html.parser')\n",
    "article_content = soup.find('div', class_='article__content')\n",
    "\n",
    "for header in article_content.find_all(['h3']):\n",
    "    print(header.get_text())\n",
    "    for elem in header.next_siblings:\n",
    "        if elem.name and elem.name.startswith('h3'):\n",
    "            break\n",
    "        if elem.name == 'ul':\n",
    "            print(elem.get_text())"
   ]
  }
 ],
 "metadata": {
  "kernelspec": {
   "display_name": "Python 3.8.9 64-bit",
   "language": "python",
   "name": "python3"
  },
  "language_info": {
   "codemirror_mode": {
    "name": "ipython",
    "version": 3
   },
   "file_extension": ".py",
   "mimetype": "text/x-python",
   "name": "python",
   "nbconvert_exporter": "python",
   "pygments_lexer": "ipython3",
   "version": "3.8.9"
  },
  "orig_nbformat": 4,
  "vscode": {
   "interpreter": {
    "hash": "31f2aee4e71d21fbe5cf8b01ff0e069b9275f58929596ceb00d14d90e3e16cd6"
   }
  }
 },
 "nbformat": 4,
 "nbformat_minor": 2
}
